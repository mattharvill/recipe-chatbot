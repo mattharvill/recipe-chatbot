{
 "cells": [
  {
   "cell_type": "code",
   "execution_count": 1,
   "metadata": {},
   "outputs": [
    {
     "data": {
      "text/plain": [
       "True"
      ]
     },
     "execution_count": 1,
     "metadata": {},
     "output_type": "execute_result"
    }
   ],
   "source": [
    "from textwrap import dedent\n",
    "from dotenv import load_dotenv\n",
    "load_dotenv()"
   ]
  },
  {
   "cell_type": "markdown",
   "metadata": {
    "vscode": {
     "languageId": "raw"
    }
   },
   "source": [
    "# Homework 2: Recipe Bot Error Analysis\n",
    "\n",
    "This notebook walks through the complete error analysis process for a Recipe Bot. We'll identify failure modes, generate test queries, and analyze bot responses to build a taxonomy of errors.\n",
    "\n",
    "**Note:** This uses the pre-existing queries and bot responses in `results_20250518_215844.csv` as our data source.\n",
    "\n",
    "For a recording of the homework walkthrough please see: https://youtu.be/h9oAAAYnGx4"
   ]
  },
  {
   "cell_type": "code",
   "execution_count": 2,
   "metadata": {},
   "outputs": [],
   "source": [
    "import pandas as pd"
   ]
  },
  {
   "cell_type": "code",
   "execution_count": 3,
   "metadata": {},
   "outputs": [
    {
     "data": {
      "text/plain": [
       "'claude-sonnet-4-20250514'"
      ]
     },
     "execution_count": 3,
     "metadata": {},
     "output_type": "execute_result"
    }
   ],
   "source": [
    "from claudette import models, Client\n",
    "model = models[1]\n",
    "c = Client(model)\n",
    "model"
   ]
  },
  {
   "cell_type": "markdown",
   "metadata": {
    "vscode": {
     "languageId": "raw"
    }
   },
   "source": [
    "## Part 1: Define Dimensions & Generate Initial Queries"
   ]
  },
  {
   "cell_type": "markdown",
   "metadata": {
    "vscode": {
     "languageId": "raw"
    }
   },
   "source": [
    "### Identify Key Dimensions\n"
   ]
  },
  {
   "cell_type": "markdown",
   "metadata": {},
   "source": [
    "\n",
    "1. **Dietary Restrictions**: What dietary limits does the user have?\n",
    "   - Low Carb\n",
    "   - Iron-Rich & Low-Fat\n",
    "   - No Sugar\n",
    "\n",
    "2. **What Season**:\n",
    "   - Winter\n",
    "   - Spring\n",
    "   - Summer\n",
    "   - Fall\n",
    "\n",
    "3. **Time Available**: How much time do they have?\n",
    "   - Under 15\n",
    "   - 30 minutes\n",
    "   - 1 hour\n",
    "\n",
    "4. **Ingredient Base**:\n",
    "   - Beans/Pasta\n",
    "   - Chicken\n",
    "   - Ground Beef\n",
    "   - Salmon\n",
    "\n",
    "5. **Meal Time**:\n",
    "   - Breakfast\n",
    "   - Lunch\n",
    "   - Dinner\n"
   ]
  },
  {
   "cell_type": "markdown",
   "metadata": {},
   "source": [
    "### Generate Unique Combinations"
   ]
  },
  {
   "cell_type": "code",
   "execution_count": 4,
   "metadata": {},
   "outputs": [],
   "source": [
    "prompt = dedent('''\\\n",
    "    I am designing a Recipe Bot and want to test it with a diverse set of user scenarios. \n",
    "    Please generate 50 unique combinations (tuples) using the following key dimensions and their possible values:\n",
    "\n",
    "Dietary Restrictions(\"Low Carb\", \"Iron-Rich & Low-Fat\", \"No Sugar\")\n",
    "Season(\"Winter\", \"Spring\", \"Summer\", \"Fall\")\n",
    "Time Available(\"Under 15\", \"30 minutes\", \"1 hour\")\n",
    "Ingredient Base(\"Ground Beef\", \"Chicken\", \"Salmon\", \"Pasta/Beans\")\n",
    "Meal Time(\"Breakfast\", \"Lunch\", \"Dinner\")\n",
    "\n",
    "Each combination should select one value from each dimension. \n",
    "Present the results as a list of tuples, where each tuple contains one value for each dimension in the following order: \n",
    "(Dietary Restrictions, What Season, Time Available, Ingredient Base, Meal Time). \n",
    "Ensure that the combinations are varied and realistic.''')\n"
   ]
  },
  {
   "cell_type": "code",
   "execution_count": 5,
   "metadata": {},
   "outputs": [
    {
     "data": {
      "text/markdown": [
       "Here are 50 unique and realistic combinations for testing your Recipe Bot:\n",
       "\n",
       "1. (\"Low Carb\", \"Winter\", \"30 minutes\", \"Ground Beef\", \"Dinner\")\n",
       "2. (\"Iron-Rich & Low-Fat\", \"Spring\", \"1 hour\", \"Chicken\", \"Lunch\")\n",
       "3. (\"No Sugar\", \"Summer\", \"Under 15\", \"Salmon\", \"Breakfast\")\n",
       "4. (\"Low Carb\", \"Fall\", \"Under 15\", \"Chicken\", \"Breakfast\")\n",
       "5. (\"Iron-Rich & Low-Fat\", \"Winter\", \"30 minutes\", \"Ground Beef\", \"Dinner\")\n",
       "6. (\"No Sugar\", \"Spring\", \"1 hour\", \"Pasta/Beans\", \"Lunch\")\n",
       "7. (\"Low Carb\", \"Summer\", \"1 hour\", \"Salmon\", \"Dinner\")\n",
       "8. (\"Iron-Rich & Low-Fat\", \"Fall\", \"Under 15\", \"Chicken\", \"Breakfast\")\n",
       "9. (\"No Sugar\", \"Winter\", \"30 minutes\", \"Pasta/Beans\", \"Dinner\")\n",
       "10. (\"Low Carb\", \"Spring\", \"Under 15\", \"Ground Beef\", \"Lunch\")\n",
       "11. (\"Iron-Rich & Low-Fat\", \"Summer\", \"1 hour\", \"Salmon\", \"Dinner\")\n",
       "12. (\"No Sugar\", \"Fall\", \"30 minutes\", \"Chicken\", \"Lunch\")\n",
       "13. (\"Low Carb\", \"Winter\", \"1 hour\", \"Pasta/Beans\", \"Lunch\")\n",
       "14. (\"Iron-Rich & Low-Fat\", \"Spring\", \"Under 15\", \"Salmon\", \"Breakfast\")\n",
       "15. (\"No Sugar\", \"Summer\", \"30 minutes\", \"Ground Beef\", \"Dinner\")\n",
       "16. (\"Low Carb\", \"Fall\", \"1 hour\", \"Chicken\", \"Dinner\")\n",
       "17. (\"Iron-Rich & Low-Fat\", \"Winter\", \"Under 15\", \"Pasta/Beans\", \"Breakfast\")\n",
       "18. (\"No Sugar\", \"Spring\", \"30 minutes\", \"Salmon\", \"Lunch\")\n",
       "19. (\"Low Carb\", \"Summer\", \"Under 15\", \"Ground Beef\", \"Breakfast\")\n",
       "20. (\"Iron-Rich & Low-Fat\", \"Fall\", \"1 hour\", \"Pasta/Beans\", \"Dinner\")\n",
       "21. (\"No Sugar\", \"Winter\", \"1 hour\", \"Chicken\", \"Dinner\")\n",
       "22. (\"Low Carb\", \"Spring\", \"30 minutes\", \"Salmon\", \"Dinner\")\n",
       "23. (\"Iron-Rich & Low-Fat\", \"Summer\", \"Under 15\", \"Ground Beef\", \"Lunch\")\n",
       "24. (\"No Sugar\", \"Fall\", \"1 hour\", \"Salmon\", \"Lunch\")\n",
       "25. (\"Low Carb\", \"Winter\", \"Under 15\", \"Chicken\", \"Lunch\")\n",
       "26. (\"Iron-Rich & Low-Fat\", \"Spring\", \"30 minutes\", \"Pasta/Beans\", \"Dinner\")\n",
       "27. (\"No Sugar\", \"Summer\", \"1 hour\", \"Chicken\", \"Lunch\")\n",
       "28. (\"Low Carb\", \"Fall\", \"30 minutes\", \"Salmon\", \"Breakfast\")\n",
       "29. (\"Iron-Rich & Low-Fat\", \"Winter\", \"1 hour\", \"Salmon\", \"Lunch\")\n",
       "30. (\"No Sugar\", \"Spring\", \"Under 15\", \"Ground Beef\", \"Breakfast\")\n",
       "31. (\"Low Carb\", \"Summer\", \"30 minutes\", \"Pasta/Beans\", \"Lunch\")\n",
       "32. (\"Iron-Rich & Low-Fat\", \"Fall\", \"30 minutes\", \"Salmon\", \"Dinner\")\n",
       "33. (\"No Sugar\", \"Winter\", \"Under 15\", \"Chicken\", \"Breakfast\")\n",
       "34. (\"Low Carb\", \"Spring\", \"1 hour\", \"Ground Beef\", \"Dinner\")\n",
       "35. (\"Iron-Rich & Low-Fat\", \"Summer\", \"30 minutes\", \"Pasta/Beans\", \"Breakfast\")\n",
       "36. (\"No Sugar\", \"Fall\", \"Under 15\", \"Pasta/Beans\", \"Lunch\")\n",
       "37. (\"Low Carb\", \"Winter\", \"30 minutes\", \"Salmon\", \"Lunch\")\n",
       "38. (\"Iron-Rich & Low-Fat\", \"Spring\", \"1 hour\", \"Ground Beef\", \"Breakfast\")\n",
       "39. (\"No Sugar\", \"Summer\", \"Under 15\", \"Pasta/Beans\", \"Dinner\")\n",
       "40. (\"Low Carb\", \"Fall\", \"1 hour\", \"Pasta/Beans\", \"Breakfast\")\n",
       "41. (\"Iron-Rich & Low-Fat\", \"Winter\", \"30 minutes\", \"Chicken\", \"Lunch\")\n",
       "42. (\"No Sugar\", \"Spring\", \"30 minutes\", \"Chicken\", \"Dinner\")\n",
       "43. (\"Low Carb\", \"Summer\", \"1 hour\", \"Ground Beef\", \"Lunch\")\n",
       "44. (\"Iron-Rich & Low-Fat\", \"Fall\", \"Under 15\", \"Ground Beef\", \"Dinner\")\n",
       "45. (\"No Sugar\", \"Winter\", \"1 hour\", \"Salmon\", \"Breakfast\")\n",
       "46. (\"Low Carb\", \"Spring\", \"Under 15\", \"Pasta/Beans\", \"Dinner\")\n",
       "47. (\"Iron-Rich & Low-Fat\", \"Summer\", \"1 hour\", \"Chicken\", \"Breakfast\")\n",
       "48. (\"No Sugar\", \"Fall\", \"30 minutes\", \"Ground Beef\", \"Lunch\")\n",
       "49. (\"Low Carb\", \"Winter\", \"1 hour\", \"Chicken\", \"Breakfast\")\n",
       "50. (\"Iron-Rich & Low-Fat\", \"Spring\", \"30 minutes\", \"Salmon\", \"Breakfast\")\n",
       "\n",
       "These combinations provide a diverse mix of scenarios that will help you test various aspects of your Recipe Bot, including different dietary needs, seasonal ingredients, time constraints, protein sources, and meal occasions.\n",
       "\n",
       "<details>\n",
       "\n",
       "- id: `msg_01R8BGpYAMrnmL6xQvueH6P2`\n",
       "- content: `[{'citations': None, 'text': 'Here are 50 unique and realistic combinations for testing your Recipe Bot:\\n\\n1. (\"Low Carb\", \"Winter\", \"30 minutes\", \"Ground Beef\", \"Dinner\")\\n2. (\"Iron-Rich & Low-Fat\", \"Spring\", \"1 hour\", \"Chicken\", \"Lunch\")\\n3. (\"No Sugar\", \"Summer\", \"Under 15\", \"Salmon\", \"Breakfast\")\\n4. (\"Low Carb\", \"Fall\", \"Under 15\", \"Chicken\", \"Breakfast\")\\n5. (\"Iron-Rich & Low-Fat\", \"Winter\", \"30 minutes\", \"Ground Beef\", \"Dinner\")\\n6. (\"No Sugar\", \"Spring\", \"1 hour\", \"Pasta/Beans\", \"Lunch\")\\n7. (\"Low Carb\", \"Summer\", \"1 hour\", \"Salmon\", \"Dinner\")\\n8. (\"Iron-Rich & Low-Fat\", \"Fall\", \"Under 15\", \"Chicken\", \"Breakfast\")\\n9. (\"No Sugar\", \"Winter\", \"30 minutes\", \"Pasta/Beans\", \"Dinner\")\\n10. (\"Low Carb\", \"Spring\", \"Under 15\", \"Ground Beef\", \"Lunch\")\\n11. (\"Iron-Rich & Low-Fat\", \"Summer\", \"1 hour\", \"Salmon\", \"Dinner\")\\n12. (\"No Sugar\", \"Fall\", \"30 minutes\", \"Chicken\", \"Lunch\")\\n13. (\"Low Carb\", \"Winter\", \"1 hour\", \"Pasta/Beans\", \"Lunch\")\\n14. (\"Iron-Rich & Low-Fat\", \"Spring\", \"Under 15\", \"Salmon\", \"Breakfast\")\\n15. (\"No Sugar\", \"Summer\", \"30 minutes\", \"Ground Beef\", \"Dinner\")\\n16. (\"Low Carb\", \"Fall\", \"1 hour\", \"Chicken\", \"Dinner\")\\n17. (\"Iron-Rich & Low-Fat\", \"Winter\", \"Under 15\", \"Pasta/Beans\", \"Breakfast\")\\n18. (\"No Sugar\", \"Spring\", \"30 minutes\", \"Salmon\", \"Lunch\")\\n19. (\"Low Carb\", \"Summer\", \"Under 15\", \"Ground Beef\", \"Breakfast\")\\n20. (\"Iron-Rich & Low-Fat\", \"Fall\", \"1 hour\", \"Pasta/Beans\", \"Dinner\")\\n21. (\"No Sugar\", \"Winter\", \"1 hour\", \"Chicken\", \"Dinner\")\\n22. (\"Low Carb\", \"Spring\", \"30 minutes\", \"Salmon\", \"Dinner\")\\n23. (\"Iron-Rich & Low-Fat\", \"Summer\", \"Under 15\", \"Ground Beef\", \"Lunch\")\\n24. (\"No Sugar\", \"Fall\", \"1 hour\", \"Salmon\", \"Lunch\")\\n25. (\"Low Carb\", \"Winter\", \"Under 15\", \"Chicken\", \"Lunch\")\\n26. (\"Iron-Rich & Low-Fat\", \"Spring\", \"30 minutes\", \"Pasta/Beans\", \"Dinner\")\\n27. (\"No Sugar\", \"Summer\", \"1 hour\", \"Chicken\", \"Lunch\")\\n28. (\"Low Carb\", \"Fall\", \"30 minutes\", \"Salmon\", \"Breakfast\")\\n29. (\"Iron-Rich & Low-Fat\", \"Winter\", \"1 hour\", \"Salmon\", \"Lunch\")\\n30. (\"No Sugar\", \"Spring\", \"Under 15\", \"Ground Beef\", \"Breakfast\")\\n31. (\"Low Carb\", \"Summer\", \"30 minutes\", \"Pasta/Beans\", \"Lunch\")\\n32. (\"Iron-Rich & Low-Fat\", \"Fall\", \"30 minutes\", \"Salmon\", \"Dinner\")\\n33. (\"No Sugar\", \"Winter\", \"Under 15\", \"Chicken\", \"Breakfast\")\\n34. (\"Low Carb\", \"Spring\", \"1 hour\", \"Ground Beef\", \"Dinner\")\\n35. (\"Iron-Rich & Low-Fat\", \"Summer\", \"30 minutes\", \"Pasta/Beans\", \"Breakfast\")\\n36. (\"No Sugar\", \"Fall\", \"Under 15\", \"Pasta/Beans\", \"Lunch\")\\n37. (\"Low Carb\", \"Winter\", \"30 minutes\", \"Salmon\", \"Lunch\")\\n38. (\"Iron-Rich & Low-Fat\", \"Spring\", \"1 hour\", \"Ground Beef\", \"Breakfast\")\\n39. (\"No Sugar\", \"Summer\", \"Under 15\", \"Pasta/Beans\", \"Dinner\")\\n40. (\"Low Carb\", \"Fall\", \"1 hour\", \"Pasta/Beans\", \"Breakfast\")\\n41. (\"Iron-Rich & Low-Fat\", \"Winter\", \"30 minutes\", \"Chicken\", \"Lunch\")\\n42. (\"No Sugar\", \"Spring\", \"30 minutes\", \"Chicken\", \"Dinner\")\\n43. (\"Low Carb\", \"Summer\", \"1 hour\", \"Ground Beef\", \"Lunch\")\\n44. (\"Iron-Rich & Low-Fat\", \"Fall\", \"Under 15\", \"Ground Beef\", \"Dinner\")\\n45. (\"No Sugar\", \"Winter\", \"1 hour\", \"Salmon\", \"Breakfast\")\\n46. (\"Low Carb\", \"Spring\", \"Under 15\", \"Pasta/Beans\", \"Dinner\")\\n47. (\"Iron-Rich & Low-Fat\", \"Summer\", \"1 hour\", \"Chicken\", \"Breakfast\")\\n48. (\"No Sugar\", \"Fall\", \"30 minutes\", \"Ground Beef\", \"Lunch\")\\n49. (\"Low Carb\", \"Winter\", \"1 hour\", \"Chicken\", \"Breakfast\")\\n50. (\"Iron-Rich & Low-Fat\", \"Spring\", \"30 minutes\", \"Salmon\", \"Breakfast\")\\n\\nThese combinations provide a diverse mix of scenarios that will help you test various aspects of your Recipe Bot, including different dietary needs, seasonal ingredients, time constraints, protein sources, and meal occasions.', 'type': 'text'}]`\n",
       "- model: `claude-sonnet-4-20250514`\n",
       "- role: `assistant`\n",
       "- stop_reason: `end_turn`\n",
       "- stop_sequence: `None`\n",
       "- type: `message`\n",
       "- usage: `{'cache_creation_input_tokens': 0, 'cache_read_input_tokens': 0, 'input_tokens': 218, 'output_tokens': 1374, 'server_tool_use': None, 'service_tier': 'standard'}`\n",
       "\n",
       "</details>"
      ],
      "text/plain": [
       "Message(id='msg_01R8BGpYAMrnmL6xQvueH6P2', content=[TextBlock(citations=None, text='Here are 50 unique and realistic combinations for testing your Recipe Bot:\\n\\n1. (\"Low Carb\", \"Winter\", \"30 minutes\", \"Ground Beef\", \"Dinner\")\\n2. (\"Iron-Rich & Low-Fat\", \"Spring\", \"1 hour\", \"Chicken\", \"Lunch\")\\n3. (\"No Sugar\", \"Summer\", \"Under 15\", \"Salmon\", \"Breakfast\")\\n4. (\"Low Carb\", \"Fall\", \"Under 15\", \"Chicken\", \"Breakfast\")\\n5. (\"Iron-Rich & Low-Fat\", \"Winter\", \"30 minutes\", \"Ground Beef\", \"Dinner\")\\n6. (\"No Sugar\", \"Spring\", \"1 hour\", \"Pasta/Beans\", \"Lunch\")\\n7. (\"Low Carb\", \"Summer\", \"1 hour\", \"Salmon\", \"Dinner\")\\n8. (\"Iron-Rich & Low-Fat\", \"Fall\", \"Under 15\", \"Chicken\", \"Breakfast\")\\n9. (\"No Sugar\", \"Winter\", \"30 minutes\", \"Pasta/Beans\", \"Dinner\")\\n10. (\"Low Carb\", \"Spring\", \"Under 15\", \"Ground Beef\", \"Lunch\")\\n11. (\"Iron-Rich & Low-Fat\", \"Summer\", \"1 hour\", \"Salmon\", \"Dinner\")\\n12. (\"No Sugar\", \"Fall\", \"30 minutes\", \"Chicken\", \"Lunch\")\\n13. (\"Low Carb\", \"Winter\", \"1 hour\", \"Pasta/Beans\", \"Lunch\")\\n14. (\"Iron-Rich & Low-Fat\", \"Spring\", \"Under 15\", \"Salmon\", \"Breakfast\")\\n15. (\"No Sugar\", \"Summer\", \"30 minutes\", \"Ground Beef\", \"Dinner\")\\n16. (\"Low Carb\", \"Fall\", \"1 hour\", \"Chicken\", \"Dinner\")\\n17. (\"Iron-Rich & Low-Fat\", \"Winter\", \"Under 15\", \"Pasta/Beans\", \"Breakfast\")\\n18. (\"No Sugar\", \"Spring\", \"30 minutes\", \"Salmon\", \"Lunch\")\\n19. (\"Low Carb\", \"Summer\", \"Under 15\", \"Ground Beef\", \"Breakfast\")\\n20. (\"Iron-Rich & Low-Fat\", \"Fall\", \"1 hour\", \"Pasta/Beans\", \"Dinner\")\\n21. (\"No Sugar\", \"Winter\", \"1 hour\", \"Chicken\", \"Dinner\")\\n22. (\"Low Carb\", \"Spring\", \"30 minutes\", \"Salmon\", \"Dinner\")\\n23. (\"Iron-Rich & Low-Fat\", \"Summer\", \"Under 15\", \"Ground Beef\", \"Lunch\")\\n24. (\"No Sugar\", \"Fall\", \"1 hour\", \"Salmon\", \"Lunch\")\\n25. (\"Low Carb\", \"Winter\", \"Under 15\", \"Chicken\", \"Lunch\")\\n26. (\"Iron-Rich & Low-Fat\", \"Spring\", \"30 minutes\", \"Pasta/Beans\", \"Dinner\")\\n27. (\"No Sugar\", \"Summer\", \"1 hour\", \"Chicken\", \"Lunch\")\\n28. (\"Low Carb\", \"Fall\", \"30 minutes\", \"Salmon\", \"Breakfast\")\\n29. (\"Iron-Rich & Low-Fat\", \"Winter\", \"1 hour\", \"Salmon\", \"Lunch\")\\n30. (\"No Sugar\", \"Spring\", \"Under 15\", \"Ground Beef\", \"Breakfast\")\\n31. (\"Low Carb\", \"Summer\", \"30 minutes\", \"Pasta/Beans\", \"Lunch\")\\n32. (\"Iron-Rich & Low-Fat\", \"Fall\", \"30 minutes\", \"Salmon\", \"Dinner\")\\n33. (\"No Sugar\", \"Winter\", \"Under 15\", \"Chicken\", \"Breakfast\")\\n34. (\"Low Carb\", \"Spring\", \"1 hour\", \"Ground Beef\", \"Dinner\")\\n35. (\"Iron-Rich & Low-Fat\", \"Summer\", \"30 minutes\", \"Pasta/Beans\", \"Breakfast\")\\n36. (\"No Sugar\", \"Fall\", \"Under 15\", \"Pasta/Beans\", \"Lunch\")\\n37. (\"Low Carb\", \"Winter\", \"30 minutes\", \"Salmon\", \"Lunch\")\\n38. (\"Iron-Rich & Low-Fat\", \"Spring\", \"1 hour\", \"Ground Beef\", \"Breakfast\")\\n39. (\"No Sugar\", \"Summer\", \"Under 15\", \"Pasta/Beans\", \"Dinner\")\\n40. (\"Low Carb\", \"Fall\", \"1 hour\", \"Pasta/Beans\", \"Breakfast\")\\n41. (\"Iron-Rich & Low-Fat\", \"Winter\", \"30 minutes\", \"Chicken\", \"Lunch\")\\n42. (\"No Sugar\", \"Spring\", \"30 minutes\", \"Chicken\", \"Dinner\")\\n43. (\"Low Carb\", \"Summer\", \"1 hour\", \"Ground Beef\", \"Lunch\")\\n44. (\"Iron-Rich & Low-Fat\", \"Fall\", \"Under 15\", \"Ground Beef\", \"Dinner\")\\n45. (\"No Sugar\", \"Winter\", \"1 hour\", \"Salmon\", \"Breakfast\")\\n46. (\"Low Carb\", \"Spring\", \"Under 15\", \"Pasta/Beans\", \"Dinner\")\\n47. (\"Iron-Rich & Low-Fat\", \"Summer\", \"1 hour\", \"Chicken\", \"Breakfast\")\\n48. (\"No Sugar\", \"Fall\", \"30 minutes\", \"Ground Beef\", \"Lunch\")\\n49. (\"Low Carb\", \"Winter\", \"1 hour\", \"Chicken\", \"Breakfast\")\\n50. (\"Iron-Rich & Low-Fat\", \"Spring\", \"30 minutes\", \"Salmon\", \"Breakfast\")\\n\\nThese combinations provide a diverse mix of scenarios that will help you test various aspects of your Recipe Bot, including different dietary needs, seasonal ingredients, time constraints, protein sources, and meal occasions.', type='text')], model='claude-sonnet-4-20250514', role='assistant', stop_reason='end_turn', stop_sequence=None, type='message', usage=In: 218; Out: 1374; Cache create: 0; Cache read: 0; Total Tokens: 1592; Search: 0)"
      ]
     },
     "execution_count": 5,
     "metadata": {},
     "output_type": "execute_result"
    }
   ],
   "source": [
    "c(prompt)"
   ]
  },
  {
   "cell_type": "code",
   "execution_count": 6,
   "metadata": {},
   "outputs": [],
   "source": [
    "dimension_examples = (\n",
    "    (\"Low Carb\", \"Winter\", \"30 minutes\", \"Ground Beef\", \"Dinner\"),\n",
    "    (\"Iron-Rich & Low-Fat\", \"Spring\", \"1 hour\", \"Chicken\", \"Lunch\"),\n",
    "    (\"No Sugar\", \"Summer\", \"Under 15\", \"Salmon\", \"Breakfast\"),\n",
    "    (\"Low Carb\", \"Fall\", \"30 minutes\", \"Pasta/Beans\", \"Dinner\"),\n",
    "    (\"Iron-Rich & Low-Fat\", \"Winter\", \"Under 15\", \"Ground Beef\", \"Lunch\"),\n",
    "    (\"No Sugar\", \"Spring\", \"1 hour\", \"Chicken\", \"Dinner\"),\n",
    "    (\"Low Carb\", \"Summer\", \"30 minutes\", \"Salmon\", \"Lunch\"),\n",
    "    (\"Iron-Rich & Low-Fat\", \"Fall\", \"1 hour\", \"Pasta/Beans\", \"Breakfast\"),\n",
    "    (\"No Sugar\", \"Winter\", \"Under 15\", \"Chicken\", \"Breakfast\"),\n",
    "    (\"Low Carb\", \"Spring\", \"1 hour\", \"Ground Beef\", \"Lunch\"),\n",
    "    (\"Iron-Rich & Low-Fat\", \"Summer\", \"30 minutes\", \"Salmon\", \"Dinner\"),\n",
    "    (\"No Sugar\", \"Fall\", \"Under 15\", \"Pasta/Beans\", \"Lunch\"),\n",
    "    (\"Low Carb\", \"Winter\", \"1 hour\", \"Chicken\", \"Breakfast\"),\n",
    "    (\"Iron-Rich & Low-Fat\", \"Spring\", \"Under 15\", \"Salmon\", \"Breakfast\"),\n",
    "    (\"No Sugar\", \"Summer\", \"30 minutes\", \"Ground Beef\", \"Lunch\"),\n",
    "    (\"Low Carb\", \"Fall\", \"Under 15\", \"Salmon\", \"Breakfast\"),\n",
    "    (\"Iron-Rich & Low-Fat\", \"Winter\", \"1 hour\", \"Pasta/Beans\", \"Dinner\"),\n",
    "    (\"No Sugar\", \"Spring\", \"30 minutes\", \"Pasta/Beans\", \"Breakfast\"),\n",
    "    (\"Low Carb\", \"Summer\", \"1 hour\", \"Ground Beef\", \"Breakfast\"),\n",
    "    (\"Iron-Rich & Low-Fat\", \"Fall\", \"Under 15\", \"Chicken\", \"Lunch\"),\n",
    "    (\"No Sugar\", \"Winter\", \"1 hour\", \"Salmon\", \"Dinner\"),\n",
    "    (\"Low Carb\", \"Spring\", \"Under 15\", \"Pasta/Beans\", \"Lunch\"),\n",
    "    (\"Iron-Rich & Low-Fat\", \"Summer\", \"1 hour\", \"Ground Beef\", \"Breakfast\"),\n",
    "    (\"No Sugar\", \"Fall\", \"30 minutes\", \"Chicken\", \"Breakfast\"),\n",
    "    (\"Low Carb\", \"Winter\", \"Under 15\", \"Salmon\", \"Lunch\"),\n",
    "    (\"Iron-Rich & Low-Fat\", \"Spring\", \"30 minutes\", \"Ground Beef\", \"Dinner\"),\n",
    "    (\"No Sugar\", \"Summer\", \"1 hour\", \"Pasta/Beans\", \"Dinner\"),\n",
    "    (\"Low Carb\", \"Fall\", \"1 hour\", \"Chicken\", \"Dinner\"),\n",
    "    (\"Iron-Rich & Low-Fat\", \"Winter\", \"30 minutes\", \"Chicken\", \"Breakfast\"),\n",
    "    (\"No Sugar\", \"Spring\", \"Under 15\", \"Ground Beef\",\"Lunch\"),\n",
    ")"
   ]
  },
  {
   "cell_type": "markdown",
   "metadata": {},
   "source": [
    "### Generate Nature Language Queries"
   ]
  },
  {
   "cell_type": "code",
   "execution_count": 7,
   "metadata": {},
   "outputs": [],
   "source": [
    "\n",
    "followup_prompt = dedent('''\\\n",
    "   Convert these dimension combinations into realistic user queries for a recipe bot. Create natural, conversational queries that reflect how real users would interact in chat interfaces like Discord or ChatGPT. Include variations in:\n",
    "   - Writing style (formal vs casual)\n",
    "   - Sentence structure (complete vs incomplete)\n",
    "   - Common typos and informal grammar\n",
    "   - Natural language patterns\n",
    "   - Realistic context and urgency\n",
    "                         \n",
    "    Include only 1 example per `dimension_example`.\n",
    "                         \n",
    "    <dimension_examples>\n",
    "    {dimension_examples}\n",
    "    </dimension_examples>\n",
    "                         \n",
    "   Return the results as a list of strings.\n",
    "   ''')"
   ]
  },
  {
   "cell_type": "code",
   "execution_count": 8,
   "metadata": {},
   "outputs": [
    {
     "data": {
      "text/plain": [
       "[('No Sugar', 'Winter', '1 hour', 'Salmon', 'Dinner'),\n",
       " ('Low Carb', 'Fall', '30 minutes', 'Pasta/Beans', 'Dinner'),\n",
       " ('Low Carb', 'Winter', '30 minutes', 'Ground Beef', 'Dinner'),\n",
       " ('No Sugar', 'Fall', '30 minutes', 'Chicken', 'Breakfast'),\n",
       " ('No Sugar', 'Winter', 'Under 15', 'Chicken', 'Breakfast'),\n",
       " ('Iron-Rich & Low-Fat', 'Fall', '1 hour', 'Pasta/Beans', 'Breakfast'),\n",
       " ('Low Carb', 'Winter', 'Under 15', 'Salmon', 'Lunch'),\n",
       " ('Iron-Rich & Low-Fat', 'Winter', 'Under 15', 'Ground Beef', 'Lunch'),\n",
       " ('Iron-Rich & Low-Fat', 'Winter', '30 minutes', 'Chicken', 'Breakfast'),\n",
       " ('No Sugar', 'Spring', '30 minutes', 'Pasta/Beans', 'Breakfast'),\n",
       " ('No Sugar', 'Summer', 'Under 15', 'Salmon', 'Breakfast'),\n",
       " ('Low Carb', 'Summer', '1 hour', 'Ground Beef', 'Breakfast'),\n",
       " ('Iron-Rich & Low-Fat', 'Spring', 'Under 15', 'Salmon', 'Breakfast'),\n",
       " ('Iron-Rich & Low-Fat', 'Spring', '1 hour', 'Chicken', 'Lunch'),\n",
       " ('Low Carb', 'Fall', '1 hour', 'Chicken', 'Dinner'),\n",
       " ('Iron-Rich & Low-Fat', 'Winter', '1 hour', 'Pasta/Beans', 'Dinner'),\n",
       " ('Low Carb', 'Spring', 'Under 15', 'Pasta/Beans', 'Lunch'),\n",
       " ('No Sugar', 'Spring', 'Under 15', 'Ground Beef', 'Lunch'),\n",
       " ('Iron-Rich & Low-Fat', 'Spring', '30 minutes', 'Ground Beef', 'Dinner'),\n",
       " ('Low Carb', 'Spring', '1 hour', 'Ground Beef', 'Lunch'),\n",
       " ('Low Carb', 'Fall', 'Under 15', 'Salmon', 'Breakfast'),\n",
       " ('No Sugar', 'Fall', 'Under 15', 'Pasta/Beans', 'Lunch'),\n",
       " ('Low Carb', 'Winter', '1 hour', 'Chicken', 'Breakfast'),\n",
       " ('No Sugar', 'Spring', '1 hour', 'Chicken', 'Dinner'),\n",
       " ('Low Carb', 'Summer', '30 minutes', 'Salmon', 'Lunch'),\n",
       " ('Iron-Rich & Low-Fat', 'Summer', '1 hour', 'Ground Beef', 'Breakfast'),\n",
       " ('No Sugar', 'Summer', '1 hour', 'Pasta/Beans', 'Dinner'),\n",
       " ('Iron-Rich & Low-Fat', 'Summer', '30 minutes', 'Salmon', 'Dinner'),\n",
       " ('No Sugar', 'Summer', '30 minutes', 'Ground Beef', 'Lunch'),\n",
       " ('Iron-Rich & Low-Fat', 'Fall', 'Under 15', 'Chicken', 'Lunch')]"
      ]
     },
     "execution_count": 8,
     "metadata": {},
     "output_type": "execute_result"
    }
   ],
   "source": [
    "import random\n",
    "random.seed(42)\n",
    "dimension_samples_for_nlp = random.sample(dimension_examples, 30)\n",
    "dimension_samples_for_nlp"
   ]
  },
  {
   "cell_type": "code",
   "execution_count": 9,
   "metadata": {},
   "outputs": [],
   "source": [
    "#print(dimension_samples_for_nlp)"
   ]
  },
  {
   "cell_type": "code",
   "execution_count": 10,
   "metadata": {},
   "outputs": [
    {
     "data": {
      "text/markdown": [
       "Here are natural, conversational user queries for each dimension combination:\n",
       "\n",
       "```\n",
       "[\n",
       "\"Hey, I need a sugar-free salmon dinner recipe that takes about an hour - something warm for this cold weather!\",\n",
       "\n",
       "\"low carb pasta for dinner tonight? got maybe 30 min and its getting chilly out\",\n",
       "\n",
       "\"Quick low carb ground beef dinner idea? Winter comfort food but only have 30 minutes\",\n",
       "\n",
       "\"weird request but... no sugar chicken breakfast? fall vibes, 30 min max\",\n",
       "\n",
       "\"need sugar free chicken breakfast ASAP - under 15 min, something warming for winter morning\",\n",
       "\n",
       "\"Looking for an iron-rich, low-fat breakfast using pasta or beans. I have about an hour and want something hearty for fall.\",\n",
       "\n",
       "\"keto salmon lunch under 15 min? need something quick for this cold day\",\n",
       "\n",
       "\"Iron rich but low fat ground beef lunch under 15 minutes? Winter meal needed\",\n",
       "\n",
       "\"Can you suggest an iron-rich, low-fat chicken breakfast? Have 30 minutes and it's freezing outside\",\n",
       "\n",
       "\"no sugar pasta/bean breakfast for spring? 30 minutes to cook\",\n",
       "\n",
       "\"sugar free salmon breakfast under 15 min for summer morning?\",\n",
       "\n",
       "\"Low carb ground beef breakfast that takes an hour? Summer cooking project\",\n",
       "\n",
       "\"need iron rich low fat salmon breakfast under 15 min - spring recipe pls\",\n",
       "\n",
       "\"Iron-rich, low-fat chicken lunch recipe? Have an hour to cook, spring ingredients preferred\",\n",
       "\n",
       "\"Low carb chicken dinner, fall ingredients, willing to spend an hour cooking\",\n",
       "\n",
       "\"Looking for iron-rich, low-fat pasta or bean dinner recipe. Winter comfort food, have about an hour to prepare.\",\n",
       "\n",
       "\"quick low carb pasta lunch under 15 min? spring ingredients\",\n",
       "\n",
       "\"No sugar ground beef lunch under 15 minutes - spring recipe needed!\",\n",
       "\n",
       "\"iron rich low fat ground beef dinner, 30 min, spring ingredients\",\n",
       "\n",
       "\"Low carb ground beef lunch recipe? Have an hour, want spring flavors\",\n",
       "\n",
       "\"keto salmon breakfast under 15 min with fall ingredients?\",\n",
       "\n",
       "\"no sugar pasta/beans lunch under 15 min? fall recipe\",\n",
       "\n",
       "\"Low carb chicken breakfast, winter style, have a full hour to cook\",\n",
       "\n",
       "\"Sugar-free chicken dinner recipe for spring? Can spend an hour cooking\",\n",
       "\n",
       "\"low carb salmon lunch 30 min summer recipe\",\n",
       "\n",
       "\"Iron-rich, low-fat ground beef breakfast taking 1 hour - summer cooking\",\n",
       "\n",
       "\"No sugar pasta/beans dinner recipe? Summer ingredients, have an hour\",\n",
       "\n",
       "\"iron rich low fat salmon dinner 30 min summer style\",\n",
       "\n",
       "\"no sugar ground beef lunch 30 min summer recipe\",\n",
       "\n",
       "\"Iron rich low fat chicken lunch under 15 min fall ingredients?\"\n",
       "]\n",
       "```\n",
       "\n",
       "<details>\n",
       "\n",
       "- id: `msg_014JUU2TN6wqgNRnBgGTSsQZ`\n",
       "- content: `[{'citations': None, 'text': 'Here are natural, conversational user queries for each dimension combination:\\n\\n```\\n[\\n\"Hey, I need a sugar-free salmon dinner recipe that takes about an hour - something warm for this cold weather!\",\\n\\n\"low carb pasta for dinner tonight? got maybe 30 min and its getting chilly out\",\\n\\n\"Quick low carb ground beef dinner idea? Winter comfort food but only have 30 minutes\",\\n\\n\"weird request but... no sugar chicken breakfast? fall vibes, 30 min max\",\\n\\n\"need sugar free chicken breakfast ASAP - under 15 min, something warming for winter morning\",\\n\\n\"Looking for an iron-rich, low-fat breakfast using pasta or beans. I have about an hour and want something hearty for fall.\",\\n\\n\"keto salmon lunch under 15 min? need something quick for this cold day\",\\n\\n\"Iron rich but low fat ground beef lunch under 15 minutes? Winter meal needed\",\\n\\n\"Can you suggest an iron-rich, low-fat chicken breakfast? Have 30 minutes and it\\'s freezing outside\",\\n\\n\"no sugar pasta/bean breakfast for spring? 30 minutes to cook\",\\n\\n\"sugar free salmon breakfast under 15 min for summer morning?\",\\n\\n\"Low carb ground beef breakfast that takes an hour? Summer cooking project\",\\n\\n\"need iron rich low fat salmon breakfast under 15 min - spring recipe pls\",\\n\\n\"Iron-rich, low-fat chicken lunch recipe? Have an hour to cook, spring ingredients preferred\",\\n\\n\"Low carb chicken dinner, fall ingredients, willing to spend an hour cooking\",\\n\\n\"Looking for iron-rich, low-fat pasta or bean dinner recipe. Winter comfort food, have about an hour to prepare.\",\\n\\n\"quick low carb pasta lunch under 15 min? spring ingredients\",\\n\\n\"No sugar ground beef lunch under 15 minutes - spring recipe needed!\",\\n\\n\"iron rich low fat ground beef dinner, 30 min, spring ingredients\",\\n\\n\"Low carb ground beef lunch recipe? Have an hour, want spring flavors\",\\n\\n\"keto salmon breakfast under 15 min with fall ingredients?\",\\n\\n\"no sugar pasta/beans lunch under 15 min? fall recipe\",\\n\\n\"Low carb chicken breakfast, winter style, have a full hour to cook\",\\n\\n\"Sugar-free chicken dinner recipe for spring? Can spend an hour cooking\",\\n\\n\"low carb salmon lunch 30 min summer recipe\",\\n\\n\"Iron-rich, low-fat ground beef breakfast taking 1 hour - summer cooking\",\\n\\n\"No sugar pasta/beans dinner recipe? Summer ingredients, have an hour\",\\n\\n\"iron rich low fat salmon dinner 30 min summer style\",\\n\\n\"no sugar ground beef lunch 30 min summer recipe\",\\n\\n\"Iron rich low fat chicken lunch under 15 min fall ingredients?\"\\n]\\n```', 'type': 'text'}]`\n",
       "- model: `claude-sonnet-4-20250514`\n",
       "- role: `assistant`\n",
       "- stop_reason: `end_turn`\n",
       "- stop_sequence: `None`\n",
       "- type: `message`\n",
       "- usage: `{'cache_creation_input_tokens': 0, 'cache_read_input_tokens': 0, 'input_tokens': 928, 'output_tokens': 616, 'server_tool_use': None, 'service_tier': 'standard'}`\n",
       "\n",
       "</details>"
      ],
      "text/plain": [
       "Message(id='msg_014JUU2TN6wqgNRnBgGTSsQZ', content=[TextBlock(citations=None, text='Here are natural, conversational user queries for each dimension combination:\\n\\n```\\n[\\n\"Hey, I need a sugar-free salmon dinner recipe that takes about an hour - something warm for this cold weather!\",\\n\\n\"low carb pasta for dinner tonight? got maybe 30 min and its getting chilly out\",\\n\\n\"Quick low carb ground beef dinner idea? Winter comfort food but only have 30 minutes\",\\n\\n\"weird request but... no sugar chicken breakfast? fall vibes, 30 min max\",\\n\\n\"need sugar free chicken breakfast ASAP - under 15 min, something warming for winter morning\",\\n\\n\"Looking for an iron-rich, low-fat breakfast using pasta or beans. I have about an hour and want something hearty for fall.\",\\n\\n\"keto salmon lunch under 15 min? need something quick for this cold day\",\\n\\n\"Iron rich but low fat ground beef lunch under 15 minutes? Winter meal needed\",\\n\\n\"Can you suggest an iron-rich, low-fat chicken breakfast? Have 30 minutes and it\\'s freezing outside\",\\n\\n\"no sugar pasta/bean breakfast for spring? 30 minutes to cook\",\\n\\n\"sugar free salmon breakfast under 15 min for summer morning?\",\\n\\n\"Low carb ground beef breakfast that takes an hour? Summer cooking project\",\\n\\n\"need iron rich low fat salmon breakfast under 15 min - spring recipe pls\",\\n\\n\"Iron-rich, low-fat chicken lunch recipe? Have an hour to cook, spring ingredients preferred\",\\n\\n\"Low carb chicken dinner, fall ingredients, willing to spend an hour cooking\",\\n\\n\"Looking for iron-rich, low-fat pasta or bean dinner recipe. Winter comfort food, have about an hour to prepare.\",\\n\\n\"quick low carb pasta lunch under 15 min? spring ingredients\",\\n\\n\"No sugar ground beef lunch under 15 minutes - spring recipe needed!\",\\n\\n\"iron rich low fat ground beef dinner, 30 min, spring ingredients\",\\n\\n\"Low carb ground beef lunch recipe? Have an hour, want spring flavors\",\\n\\n\"keto salmon breakfast under 15 min with fall ingredients?\",\\n\\n\"no sugar pasta/beans lunch under 15 min? fall recipe\",\\n\\n\"Low carb chicken breakfast, winter style, have a full hour to cook\",\\n\\n\"Sugar-free chicken dinner recipe for spring? Can spend an hour cooking\",\\n\\n\"low carb salmon lunch 30 min summer recipe\",\\n\\n\"Iron-rich, low-fat ground beef breakfast taking 1 hour - summer cooking\",\\n\\n\"No sugar pasta/beans dinner recipe? Summer ingredients, have an hour\",\\n\\n\"iron rich low fat salmon dinner 30 min summer style\",\\n\\n\"no sugar ground beef lunch 30 min summer recipe\",\\n\\n\"Iron rich low fat chicken lunch under 15 min fall ingredients?\"\\n]\\n```', type='text')], model='claude-sonnet-4-20250514', role='assistant', stop_reason='end_turn', stop_sequence=None, type='message', usage=In: 928; Out: 616; Cache create: 0; Cache read: 0; Total Tokens: 1544; Search: 0)"
      ]
     },
     "execution_count": 10,
     "metadata": {},
     "output_type": "execute_result"
    }
   ],
   "source": [
    "c(followup_prompt.format(dimension_examples=dimension_samples_for_nlp))"
   ]
  },
  {
   "cell_type": "code",
   "execution_count": 11,
   "metadata": {},
   "outputs": [],
   "source": [
    "test_messages = [\n",
    "\"Hey, I need a sugar-free salmon dinner recipe that takes about an hour - something warm for this cold weather!\",\n",
    "\n",
    "\"low carb pasta for dinner tonight? got maybe 30 min and its getting chilly out\",\n",
    "\n",
    "\"Quick low carb ground beef dinner idea? Winter comfort food but only have 30 minutes\",\n",
    "\n",
    "\"weird request but... no sugar chicken breakfast? fall vibes, 30 min max\",\n",
    "\n",
    "\"need sugar free chicken breakfast ASAP - under 15 min, something warming for winter morning\",\n",
    "\n",
    "\"Looking for an iron-rich, low-fat breakfast using pasta or beans. I have about an hour and want something hearty for fall.\",\n",
    "\n",
    "\"keto salmon lunch under 15 min? need something quick for this cold day\",\n",
    "\n",
    "\"Iron rich but low fat ground beef lunch under 15 minutes? Winter meal needed\",\n",
    "\n",
    "\"Can you suggest an iron-rich, low-fat chicken breakfast? Have 30 minutes and it's freezing outside\",\n",
    "\n",
    "\"no sugar pasta/bean breakfast for spring? 30 minutes to cook\",\n",
    "\n",
    "\"sugar free salmon breakfast under 15 min for summer morning?\",\n",
    "\n",
    "\"Low carb ground beef breakfast that takes an hour? Summer cooking project\",\n",
    "\n",
    "\"need iron rich low fat salmon breakfast under 15 min - spring recipe pls\",\n",
    "\n",
    "\"Iron-rich, low-fat chicken lunch recipe? Have an hour to cook, spring ingredients preferred\",\n",
    "\n",
    "\"Low carb chicken dinner, fall ingredients, willing to spend an hour cooking\",\n",
    "\n",
    "\"Looking for iron-rich, low-fat pasta or bean dinner recipe. Winter comfort food, have about an hour to prepare.\",\n",
    "\n",
    "\"quick low carb pasta lunch under 15 min? spring ingredients\",\n",
    "\n",
    "\"No sugar ground beef lunch under 15 minutes - spring recipe needed!\",\n",
    "\n",
    "\"iron rich low fat ground beef dinner, 30 min, spring ingredients\",\n",
    "\n",
    "\"Low carb ground beef lunch recipe? Have an hour, want spring flavors\",\n",
    "\n",
    "\"keto salmon breakfast under 15 min with fall ingredients?\",\n",
    "\n",
    "\"no sugar pasta/beans lunch under 15 min? fall recipe\",\n",
    "\n",
    "\"Low carb chicken breakfast, winter style, have a full hour to cook\",\n",
    "\n",
    "\"Sugar-free chicken dinner recipe for spring? Can spend an hour cooking\",\n",
    "\n",
    "\"low carb salmon lunch 30 min summer recipe\",\n",
    "\n",
    "\"Iron-rich, low-fat ground beef breakfast taking 1 hour - summer cooking\",\n",
    "\n",
    "\"No sugar pasta/beans dinner recipe? Summer ingredients, have an hour\",\n",
    "\n",
    "\"iron rich low fat salmon dinner 30 min summer style\",\n",
    "\n",
    "\"no sugar ground beef lunch 30 min summer recipe\",\n",
    "\n",
    "\"Iron rich low fat chicken lunch under 15 min fall ingredients?\"\n",
    "]\n"
   ]
  },
  {
   "cell_type": "markdown",
   "metadata": {},
   "source": [
    "## Part 2: Initial Error Analysis"
   ]
  },
  {
   "cell_type": "markdown",
   "metadata": {},
   "source": [
    "### Run bot on synthetic queries"
   ]
  },
  {
   "cell_type": "markdown",
   "metadata": {},
   "source": [
    "I decided at this point to implement automated tracing.  Copying and pasting from the UI felt annoying and I didn't want to do that.  So I felt like I had 2 main options:\n",
    "\n",
    "1. Implement functions that can call the backend programatically\n",
    "2. Implement automated tracing\n",
    "\n",
    "I opted for option #2 because I wanted to be a user of my product more, and did not want to fully automate away the experience of using the actual application.\n",
    "\n",
    "So I implemented the simplest tracing mechanism I could think of to start with.  Saving JSON files to disk.\n",
    "\n",
    "\n",
    "```python\n",
    "    traces_dir = Path(__file__).parent.parent / \"annotation\" / \"traces\"\n",
    "    traces_dir.mkdir(parents=True, exist_ok=True)\n",
    "    ts = datetime.datetime.now().strftime(\"%Y%m%d_%H%M%S_%f\")\n",
    "    trace_path = traces_dir / f\"trace_{ts}.json\"\n",
    "    with open(trace_path, \"w\") as f:\n",
    "        json.dump({\n",
    "            \"request\": payload.model_dump(),\n",
    "            \"response\": response.model_dump()\n",
    "        }, f)\n",
    "```"
   ]
  },
  {
   "cell_type": "markdown",
   "metadata": {},
   "source": [
    "I took each of the synthetic queries and ran them through the app to generate the traces.  I then copied them into a `golden_dataset` folder which is what ill use for my open coding dataset for this excersize."
   ]
  },
  {
   "cell_type": "markdown",
   "metadata": {},
   "source": [
    "### Open Coding"
   ]
  },
  {
   "cell_type": "markdown",
   "metadata": {},
   "source": [
    "> NOTE:  Watch Hamel and Isaac do open coding live.  This is VERY important to watch.\n",
    "\n",
    "https://www.youtube.com/watch?v=AKg27L4E0M8\n",
    "\n",
    "To do open coding I opted to create an annotation app with fasthtml.  You can see it in `annotation/\n",
    "annotation.py` and run it with `python annotation.py`.  This reads the json files from the `golden_dataset` folder directly, and then saves any of my open coding notes back in the json file.  I only solved for open coding first."
   ]
  },
  {
   "cell_type": "markdown",
   "metadata": {},
   "source": [
    "![](imgs/open_coding_dashboard.png)\n",
    "\n",
    "![](imgs/open_coding_notes.png)"
   ]
  },
  {
   "cell_type": "markdown",
   "metadata": {},
   "source": [
    "UX things I noticed along the way I will improve over time:\n",
    "- Kinda annoying not to have a next button and have to go back to the dashboard\n",
    "- Dashboard needs some indication as to what's been done so when I come back to it it's not lost"
   ]
  },
  {
   "cell_type": "markdown",
   "metadata": {},
   "source": [
    "I adressed this by using an href for next and previous, and added a single emoji for it open coding was done.  I then extended it to give 2 emojis if both open coding and axial coding was done."
   ]
  },
  {
   "cell_type": "markdown",
   "metadata": {},
   "source": [
    "![](./imgs/NewDashboard.png)"
   ]
  },
  {
   "cell_type": "markdown",
   "metadata": {},
   "source": [
    "### Axial Coding and Taxonomy Definition"
   ]
  },
  {
   "cell_type": "markdown",
   "metadata": {},
   "source": [
    "I then went through and did axial coding.  I did this by adding MonsterUI's insertable select and saving things back to json.\n",
    "\n",
    "The insertable select saves to the json as well and lets you search and add new codes as you go if one doesne exist"
   ]
  },
  {
   "cell_type": "markdown",
   "metadata": {},
   "source": [
    "Findings:\n",
    "\n",
    "- I failure modes had just 1 or 2 traces in them.  This tells me that I probably have not seen all the failure modes and have not reached saturation.  I need to do more\n",
    "- Maybe the original instruction for no follow up quesetions was bad.  If someone asks for keto + beans it's impossible to comply with both, and seems like in that case it makes sense to have a follow up question."
   ]
  },
  {
   "cell_type": "markdown",
   "metadata": {},
   "source": []
  },
  {
   "cell_type": "code",
   "execution_count": null,
   "metadata": {},
   "outputs": [],
   "source": []
  }
 ],
 "metadata": {
  "kernelspec": {
   "display_name": "Python 3 (ipykernel)",
   "language": "python",
   "name": "python3"
  },
  "language_info": {
   "codemirror_mode": {
    "name": "ipython",
    "version": 3
   },
   "file_extension": ".py",
   "mimetype": "text/x-python",
   "name": "python",
   "nbconvert_exporter": "python",
   "pygments_lexer": "ipython3",
   "version": "3.13.5"
  }
 },
 "nbformat": 4,
 "nbformat_minor": 4
}
