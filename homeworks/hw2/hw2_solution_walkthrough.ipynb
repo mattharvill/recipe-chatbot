{
 "cells": [
  {
   "cell_type": "code",
   "execution_count": 1,
   "metadata": {},
   "outputs": [],
   "source": [
    "from textwrap import dedent"
   ]
  },
  {
   "cell_type": "markdown",
   "metadata": {
    "vscode": {
     "languageId": "raw"
    }
   },
   "source": [
    "# Homework 2: Recipe Bot Error Analysis\n",
    "\n",
    "This notebook walks through the complete error analysis process for a Recipe Bot. We'll identify failure modes, generate test queries, and analyze bot responses to build a taxonomy of errors.\n",
    "\n",
    "**Note:** This uses the pre-existing queries and bot responses in `results_20250518_215844.csv` as our data source.\n",
    "\n",
    "For a recording of the homework walkthrough please see: https://youtu.be/h9oAAAYnGx4"
   ]
  },
  {
   "cell_type": "code",
   "execution_count": 2,
   "metadata": {},
   "outputs": [],
   "source": [
    "import pandas as pd"
   ]
  },
  {
   "cell_type": "code",
   "execution_count": 3,
   "metadata": {},
   "outputs": [
    {
     "data": {
      "text/plain": [
       "'claude-sonnet-4-20250514'"
      ]
     },
     "execution_count": 3,
     "metadata": {},
     "output_type": "execute_result"
    }
   ],
   "source": [
    "from claudette import models, Client\n",
    "model = models[1]\n",
    "c = Client(model)\n",
    "model"
   ]
  },
  {
   "cell_type": "markdown",
   "metadata": {
    "vscode": {
     "languageId": "raw"
    }
   },
   "source": [
    "## Part 1: Define Dimensions & Generate Initial Queries"
   ]
  },
  {
   "cell_type": "markdown",
   "metadata": {
    "vscode": {
     "languageId": "raw"
    }
   },
   "source": [
    "### Identify Key Dimensions\n"
   ]
  },
  {
   "cell_type": "markdown",
   "metadata": {},
   "source": [
    "meal_type(\"breakfast\", \"lunch\", \"dinner\", \"snack\")\n",
    "user(\"matt\", \"kate\", \"guests\")\n",
    "protein_category(\"poultry\", \"seafood\", \"red_meat\")\n",
    "side_dish(\"salad\", \"roasted_veg\", \"rice_base\")\n",
    "cooking_method(\"oven\", \"grill\", \"stovetop\", \"air_fryer\")"
   ]
  },
  {
   "cell_type": "markdown",
   "metadata": {},
   "source": [
    "### Generate Unique Combinations"
   ]
  },
  {
   "cell_type": "code",
   "execution_count": 4,
   "metadata": {},
   "outputs": [],
   "source": [
    "from textwrap import dedent\n",
    "\n",
    "# Updated prompt using the \"leveled-up\" categorical structure\n",
    "prompt = dedent('''\\\n",
    "I am designing a Recipe Bot and want to test it with a diverse set of user scenarios. \n",
    "Please generate 50 unique combinations (tuples) using the following structured dimensions and their possible values:\n",
    "\n",
    "meal_type(\"breakfast\", \"lunch\", \"dinner\", \"snack\")\n",
    "user(\"matt\", \"kate\", \"hosting\")\n",
    "protein_type(\"salmon\", \"chicken\", \"red meat\", \"turkey\", \"fish\")\n",
    "fruit(\"bananas\", \"apples\", \"blueberries\", \"raspberries\", \"avocado\", \"strawberries\", \"apples\", \"bananas\")\n",
    "vegetables(\"asparagus\", \"bell peppers\", \"mini cucumber\", \"cherry tomatos\", \"brussel sprouts\", \"cauliflower rice\", \"garlic\", \"cauliflower\")\n",
    "cooking_method(\"sous vide\", \"bbq grill\", \"oven\", \"air fryer\", \"toaster oven\", \"instapot\")\n",
    "\n",
    "Each combination should select one value from each of the 5 dimensions. \n",
    "Present the results as a list of tuples, where each tuple contains one value for each dimension in the following order: \n",
    "(meal_type, user, protein_category, side_dish, cooking_method). \n",
    "\n",
    "Ensure that the combinations are varied and realistic, keeping in mind logical pairings (e.g., breakfast combinations should make sense).''')\n"
   ]
  },
  {
   "cell_type": "code",
   "execution_count": 5,
   "metadata": {},
   "outputs": [],
   "source": [
    "# c(prompt)"
   ]
  },
  {
   "cell_type": "code",
   "execution_count": 6,
   "metadata": {
    "scrolled": true
   },
   "outputs": [
    {
     "ename": "NameError",
     "evalue": "name 'dimension_examples' is not defined",
     "output_type": "error",
     "traceback": [
      "\u001b[31m-------------------------------------------------------------------\u001b[39m",
      "\u001b[31mNameError\u001b[39m                         Traceback (most recent call last)",
      "\u001b[36mCell\u001b[39m\u001b[36m \u001b[39m\u001b[32mIn[6]\u001b[39m\u001b[32m, line 3\u001b[39m\n\u001b[32m      1\u001b[39m \u001b[38;5;28;01mimport\u001b[39;00m\u001b[38;5;250m \u001b[39m\u001b[34;01mrandom\u001b[39;00m\n\u001b[32m      2\u001b[39m random.seed(\u001b[32m42\u001b[39m)\n\u001b[32m----> \u001b[39m\u001b[32m3\u001b[39m dimension_samples_for_nlp = random.sample(\u001b[43mdimension_examples\u001b[49m, \u001b[32m40\u001b[39m)\n\u001b[32m      4\u001b[39m dimension_samples_for_nlp\n",
      "\u001b[31mNameError\u001b[39m: name 'dimension_examples' is not defined"
     ]
    }
   ],
   "source": [
    "import random\n",
    "random.seed(42)\n",
    "dimension_samples_for_nlp = random.sample(dimension_examples, 40)\n",
    "dimension_samples_for_nlp"
   ]
  },
  {
   "cell_type": "code",
   "execution_count": null,
   "metadata": {},
   "outputs": [],
   "source": [
    "dimension_samples_for_nlp = [\n",
    "    ('breakfast', 'guests', 'seafood', 'roasted_veg', 'oven'),\n",
    "    ('lunch', 'kate', 'poultry', 'rice_base', 'stovetop'),\n",
    "  (\"lunch\", \"kate\", \"red_meat\", \"rice_base\", \"oven\"),\n",
    "    (\"dinner\", \"guests\", \"seafood\", \"rice_base\", \"stovetop\"),\n",
    "    (\"lunch\", \"kate\", \"seafood\", \"salad\", \"stovetop\"),\n",
    "    # --- Group 1: Core Success Cases (15 Tuples) ---\n",
    "    # These are realistic, high-quality combinations the bot MUST handle correctly.\n",
    "    (\"dinner\", \"matt\", \"poultry\", \"roasted_veg\", \"grill\"),      # Ideal Matt dinner.\n",
    "    (\"dinner\", \"kate\", \"seafood\", \"rice_base\", \"oven\"),         # Ideal Kate dinner (iron, low-fat, batch-prep friendly).\n",
    "    (\"dinner\", \"guests\", \"poultry\", \"roasted_veg\", \"oven\"),     # Classic safe guest meal.\n",
    "    (\"lunch\", \"matt\", \"red_meat\", \"salad\", \"stovetop\"),         # Leftover steak salad - valid.\n",
    "    (\"lunch\", \"kate\", \"poultry\", \"rice_base\", \"stovetop\"),      # Perfect use of prepped grains for Kate.\n",
    "    (\"dinner\", \"matt\", \"seafood\", \"salad\", \"air_fryer\"),        # Healthy and safe for Matt.\n",
    "    (\"dinner\", \"kate\", \"red_meat\", \"rice_base\", \"stovetop\"),    # Valid for Kate's iron needs.\n",
    "    (\"dinner\", \"guests\", \"red_meat\", \"salad\", \"grill\"),         # Classic BBQ scenario.\n",
    "    (\"lunch\", \"guests\", \"poultry\", \"salad\", \"grill\"),           # Standard light lunch for guests.\n",
    "    (\"breakfast\", \"matt\", \"poultry\", \"roasted_veg\", \"stovetop\"),# e.g., Turkey sausage and peppers.\n",
    "    (\"breakfast\", \"kate\", \"seafood\", \"salad\", \"stovetop\"),      # e.g., Smoked salmon on greens.\n",
    "    (\"snack\", \"matt\", \"poultry\", \"salad\", \"air_fryer\"),         # Quick, high-protein snack.\n",
    "    (\"snack\", \"kate\", \"seafood\", \"salad\", \"stovetop\"),          # Light, iron-rich snack.\n",
    "    (\"dinner\", \"matt\", \"red_meat\", \"roasted_veg\", \"oven\"),      # Valid oven-based meal for Matt.\n",
    "    (\"dinner\", \"kate\", \"poultry\", \"salad\", \"oven\"),             # Baked chicken salad, valid for Kate.\n",
    "\n",
    "    # --- Group 2: Critical Failure Cases (10 Tuples) ---\n",
    "    # These tuples violate Matt's core dietary rule. The bot should NOT suggest these recipes as-is.\n",
    "    # This directly addresses your need for more failure mode examples.\n",
    "    (\"dinner\", \"matt\", \"poultry\", \"rice_base\", \"stovetop\"),     # FAILURE: Matt cannot have rice_base.\n",
    "    (\"lunch\", \"matt\", \"seafood\", \"rice_base\", \"oven\"),          # FAILURE: Matt cannot have rice_base.\n",
    "    (\"breakfast\", \"matt\", \"red_meat\", \"rice_base\", \"stovetop\"), # FAILURE: Matt cannot have rice_base.\n",
    "    (\"snack\", \"matt\", \"poultry\", \"rice_base\", \"air_fryer\"),     # FAILURE: Matt cannot have rice_base.\n",
    "    (\"dinner\", \"matt\", \"red_meat\", \"rice_base\", \"grill\"),       # FAILURE: Matt cannot have rice_base.\n",
    "    (\"lunch\", \"matt\", \"poultry\", \"rice_base\", \"stovetop\"),      # FAILURE: Matt cannot have rice_base.\n",
    "    (\"breakfast\", \"matt\", \"seafood\", \"rice_base\", \"oven\"),      # FAILURE: Matt cannot have rice_base.\n",
    "    (\"snack\", \"matt\", \"seafood\", \"rice_base\", \"air_fryer\"),     # FAILURE: Matt cannot have rice_base.\n",
    "    (\"dinner\", \"matt\", \"seafood\", \"rice_base\", \"grill\"),        # FAILURE: Matt cannot have rice_base.\n",
    "    (\"lunch\", \"matt\", \"red_meat\", \"rice_base\", \"stovetop\"),     # FAILURE: Matt cannot have rice_base.\n",
    "\n",
    "    # --- Group 3: Subtle & Edge Cases (15 Tuples) ---\n",
    "    # These are logically possible but unlikely, testing the bot's nuance and common sense.\n",
    "    (\"breakfast\", \"guests\", \"red_meat\", \"roasted_veg\", \"grill\"),# Grilling steak for breakfast is unusual.\n",
    "    (\"snack\", \"kate\", \"red_meat\", \"roasted_veg\", \"oven\"),       # A heavy, oven-cooked snack is unlikely.\n",
    "    (\"dinner\", \"guests\", \"poultry\", \"rice_base\", \"air_fryer\"),  # Air-frying a grain base is odd.\n",
    "    (\"snack\", \"guests\", \"red_meat\", \"salad\", \"oven\"),           # Baking a steak salad for a snack is weird.\n",
    "    (\"breakfast\", \"matt\", \"seafood\", \"roasted_veg\", \"grill\"),   # Grilling fish and vegetables for breakfast.\n",
    "    (\"lunch\", \"kate\", \"red_meat\", \"rice_base\", \"air_fryer\"),    # Another odd air-fryer combination.\n",
    "    (\"dinner\", \"matt\", \"poultry\", \"salad\", \"stovetop\"),         # Less common than grilling or baking.\n",
    "    (\"snack\", \"kate\", \"poultry\", \"roasted_veg\", \"grill\"),       # Grilling a small snack is high-effort.\n",
    "    (\"breakfast\", \"kate\", \"poultry\", \"salad\", \"grill\"),         # Grilling chicken for a breakfast salad.\n",
    "    (\"lunch\", \"guests\", \"seafood\", \"rice_base\", \"air_fryer\"),   # Testing this unusual cooking method.\n",
    "    (\"snack\", \"matt\", \"red_meat\", \"salad\", \"stovetop\"),         # Pan-searing steak for a snack.\n",
    "    (\"dinner\", \"guests\", \"seafood\", \"salad\", \"air_fryer\"),      # Air-fried fish on a salad.\n",
    "    (\"breakfast\", \"guests\", \"seafood\", \"roasted_veg\", \"oven\"),  # A seafood frittata-style breakfast.\n",
    "    (\"lunch\", \"kate\", \"seafood\", \"roasted_veg\", \"grill\"),       # Grilling is less batch-prep friendly.\n",
    "    (\"snack\", \"guests\", \"poultry\", \"rice_base\", \"stovetop\"),    # A grain-based snack.\n",
    "    \n",
    "    # --- Group 4: Ambiguity & Crossover Tests (10 Tuples) ---\n",
    "    # These test scenarios where needs might overlap or be ambiguous.\n",
    "    (\"dinner\", \"guests\", \"seafood\", \"rice_base\", \"grill\"),      # What if Matt is one of the guests? Bot should clarify.\n",
    "    (\"dinner\", \"guests\", \"red_meat\", \"rice_base\", \"oven\"),      # Another guest scenario that is bad for Matt.\n",
    "    (\"lunch\", \"guests\", \"poultry\", \"rice_base\", \"stovetop\"),    # Tests if the bot defaults to the unsafe option.\n",
    "    (\"breakfast\", \"guests\", \"poultry\", \"rice_base\", \"stovetop\"),# A breakfast version of the guest ambiguity.\n",
    "    (\"snack\", \"guests\", \"seafood\", \"rice_base\", \"stovetop\"),    # A snack version of the guest ambiguity.\n",
    "    (\"dinner\", \"kate\", \"red_meat\", \"salad\", \"grill\"),           # Kate using Matt's preferred cooking method.\n",
    "    (\"dinner\", \"matt\", \"seafood\", \"salad\", \"stovetop\"),         # Matt using Kate's preferred cooking method.\n",
    "    (\"lunch\", \"kate\", \"red_meat\", \"salad\", \"grill\"),            # Kate using Matt's preferred method for lunch.\n",
    "    (\"lunch\", \"matt\", \"poultry\", \"roasted_veg\", \"oven\"),        # Matt using Kate's preferred method for lunch.\n",
    "    (\"dinner\", \"guests\", \"poultry\", \"salad\", \"air_fryer\"),      # A simple, safe crossover meal.\n",
    "    ('snack', 'kate', 'red_meat', 'roasted_veg', 'oven')\n",
    "]"
   ]
  },
  {
   "cell_type": "code",
   "execution_count": null,
   "metadata": {},
   "outputs": [],
   "source": [
    "\n",
    "followup_prompt = dedent('''\\\n",
    "   Convert these dimension combinations into realistic user queries for a recipe bot. \n",
    "   Create natural, conversational queries that reflect how real users would interact in chat interfaces like Discord or ChatGPT. \n",
    "   Include variations in:\n",
    "   - Writing style (formal vs casual)\n",
    "   - Sentence structure (complete vs incomplete)\n",
    "   - Common typos and informal grammar\n",
    "   - Natural language patterns\n",
    "   - Realistic context and urgency\n",
    "                         \n",
    "    Include only 1 example per `dimension_example`.\n",
    "                         \n",
    "    <dimension_examples>\n",
    "    {dimension_examples}\n",
    "    </dimension_examples>\n",
    "                         \n",
    "   Return the results as a list of strings. Each query should be based on the following dimensions, in this order:\n",
    "   meal_type, user, protein_type, ingredient_base, cooking_method\n",
    "   ''') \n",
    "prompt_text = followup_prompt.format(dimension_examples=dimension_samples_for_nlp)\n",
    "print (prompt_text)"
   ]
  },
  {
   "cell_type": "markdown",
   "metadata": {},
   "source": [
    "### Generate Nature Language Queries"
   ]
  },
  {
   "cell_type": "code",
   "execution_count": null,
   "metadata": {},
   "outputs": [],
   "source": [
    "# c(followup_prompt.format(dimension_examples=dimension_samples_for_nlp))"
   ]
  },
  {
   "cell_type": "markdown",
   "metadata": {},
   "source": [
    "## Part 2: Initial Error Analysis"
   ]
  },
  {
   "cell_type": "markdown",
   "metadata": {},
   "source": [
    "### Run bot on synthetic queries"
   ]
  },
  {
   "cell_type": "markdown",
   "metadata": {},
   "source": [
    "I decided at this point to implement automated tracing.  Copying and pasting from the UI felt annoying and I didn't want to do that.  So I felt like I had 2 main options:\n",
    "\n",
    "1. Implement functions that can call the backend programatically\n",
    "2. Implement automated tracing\n",
    "\n",
    "I opted for option #2 because I wanted to be a user of my product more, and did not want to fully automate away the experience of using the actual application.\n",
    "\n",
    "So I implemented the simplest tracing mechanism I could think of to start with.  Saving JSON files to disk.\n",
    "\n",
    "\n",
    "```python\n",
    "    traces_dir = Path(__file__).parent.parent / \"annotation\" / \"traces\"\n",
    "    traces_dir.mkdir(parents=True, exist_ok=True)\n",
    "    ts = datetime.datetime.now().strftime(\"%Y%m%d_%H%M%S_%f\")\n",
    "    trace_path = traces_dir / f\"trace_{ts}.json\"\n",
    "    with open(trace_path, \"w\") as f:\n",
    "        json.dump({\n",
    "            \"request\": payload.model_dump(),\n",
    "            \"response\": response.model_dump()\n",
    "        }, f)\n",
    "```"
   ]
  },
  {
   "cell_type": "markdown",
   "metadata": {},
   "source": [
    "I took each of the synthetic queries and ran them through the app to generate the traces.  I then copied them into a `golden_dataset` folder which is what ill use for my open coding dataset for this excersize."
   ]
  },
  {
   "cell_type": "markdown",
   "metadata": {},
   "source": [
    "### Open Coding"
   ]
  },
  {
   "cell_type": "markdown",
   "metadata": {},
   "source": [
    "> NOTE:  Watch Hamel and Isaac do open coding live.  This is VERY important to watch.\n",
    "\n",
    "https://www.youtube.com/watch?v=AKg27L4E0M8\n",
    "\n",
    "To do open coding I opted to create an annotation app with fasthtml.  You can see it in `annotation/\n",
    "annotation.py` and run it with `python annotation.py`.  This reads the json files from the `golden_dataset` folder directly, and then saves any of my open coding notes back in the json file.  I only solved for open coding first."
   ]
  },
  {
   "cell_type": "markdown",
   "metadata": {},
   "source": [
    "![](imgs/open_coding_dashboard.png)\n",
    "\n",
    "![](imgs/open_coding_notes.png)"
   ]
  },
  {
   "cell_type": "markdown",
   "metadata": {},
   "source": [
    "UX things I noticed along the way I will improve over time:\n",
    "- Kinda annoying not to have a next button and have to go back to the dashboard\n",
    "- Dashboard needs some indication as to what's been done so when I come back to it it's not lost"
   ]
  },
  {
   "cell_type": "markdown",
   "metadata": {},
   "source": [
    "I adressed this by using an href for next and previous, and added a single emoji for it open coding was done.  I then extended it to give 2 emojis if both open coding and axial coding was done."
   ]
  },
  {
   "cell_type": "markdown",
   "metadata": {},
   "source": [
    "![](./imgs/NewDashboard.png)"
   ]
  },
  {
   "cell_type": "markdown",
   "metadata": {},
   "source": [
    "### Axial Coding and Taxonomy Definition"
   ]
  },
  {
   "cell_type": "markdown",
   "metadata": {},
   "source": [
    "I then went through and did axial coding.  I did this by adding MonsterUI's insertable select and saving things back to json.\n",
    "\n",
    "The insertable select saves to the json as well and lets you search and add new codes as you go if one doesne exist"
   ]
  },
  {
   "cell_type": "markdown",
   "metadata": {},
   "source": [
    "Findings:\n",
    "\n",
    "- I failure modes had just 1 or 2 traces in them.  This tells me that I probably have not seen all the failure modes and have not reached saturation.  I need to do more\n",
    "- Maybe the original instruction for no follow up quesetions was bad.  If someone asks for keto + beans it's impossible to comply with both, and seems like in that case it makes sense to have a follow up question."
   ]
  },
  {
   "cell_type": "markdown",
   "metadata": {},
   "source": []
  }
 ],
 "metadata": {
  "kernelspec": {
   "display_name": "Python 3 (ipykernel)",
   "language": "python",
   "name": "python3"
  },
  "language_info": {
   "codemirror_mode": {
    "name": "ipython",
    "version": 3
   },
   "file_extension": ".py",
   "mimetype": "text/x-python",
   "name": "python",
   "nbconvert_exporter": "python",
   "pygments_lexer": "ipython3",
   "version": "3.13.5"
  }
 },
 "nbformat": 4,
 "nbformat_minor": 4
}
